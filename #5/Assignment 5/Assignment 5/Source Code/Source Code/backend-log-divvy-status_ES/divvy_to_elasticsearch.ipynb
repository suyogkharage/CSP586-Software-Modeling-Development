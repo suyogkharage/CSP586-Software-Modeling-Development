{
 "cells": [
  {
   "cell_type": "code",
   "execution_count": null,
   "metadata": {},
   "outputs": [],
   "source": [
    "import json\n",
    "import socket\n",
    "import time\n",
    "import urllib.request\n",
    "from pprint import pprint\n",
    "from elasticsearch import Elasticsearch, helpers\n",
    "import json\n"
   ]
  },
  {
   "cell_type": "code",
   "execution_count": null,
   "metadata": {},
   "outputs": [],
   "source": []
  },
  {
   "cell_type": "code",
   "execution_count": null,
   "metadata": {},
   "outputs": [],
   "source": [
    "while True:\n",
    "    response = urllib.request.urlopen('https://feeds.divvybikes.com/stations/stations.json')\n",
    "\n",
    "    # Extract the body of the reply\n",
    "    response_body = response.read()\n",
    "\n",
    "    # Decode the format in json format\n",
    "    stations_json = json.loads(response_body.decode(\"utf-8\"))\n",
    "\n",
    "    stations_json = stations_json['stationBeanList']\n",
    "\n",
    "    for item in stations_json:\n",
    "            if item[\"city\"] == \"Chicago \":\n",
    "                item[\"city\"] = \"Chicago\"\n",
    "                \n",
    "    list_divvy_documents = []           \n",
    "    \n",
    "    for stations in stations_json:\n",
    "        index_stations = {  \n",
    "                \"_index\": \"divvy_stations_logs1\",\n",
    "                \"_type\": \"logs\",\n",
    "                \"_source\": stations\n",
    "        }\n",
    "        list_divvy_documents.append(index_stations)  \n",
    "    \n",
    "    output_file = open('divvyToES.json', 'w', encoding='utf-8')\n",
    "\n",
    "    for dic in list_divvy_documents:\n",
    "        json.dump(dic, output_file) \n",
    "        output_file.write(\"\\n\")\n",
    "    \n",
    "    \n",
    "    es1 = Elasticsearch()\n",
    "    \n",
    "    helpers.bulk(es1, list_divvy_documents)\n",
    "    \n",
    "    # Sleep for 125 seconds; divvy updates its stations status every 2 minutes\n",
    "    print('Sent Heartbeat to Divvy Servers and Going to sleep for 125 seconds now ...')\n",
    "    time.sleep(125)    \n",
    "    continue"
   ]
  },
  {
   "cell_type": "code",
   "execution_count": null,
   "metadata": {},
   "outputs": [],
   "source": []
  },
  {
   "cell_type": "code",
   "execution_count": null,
   "metadata": {},
   "outputs": [],
   "source": []
  }
 ],
 "metadata": {
  "kernelspec": {
   "display_name": "Python 3",
   "language": "python",
   "name": "python3"
  },
  "language_info": {
   "codemirror_mode": {
    "name": "ipython",
    "version": 3
   },
   "file_extension": ".py",
   "mimetype": "text/x-python",
   "name": "python",
   "nbconvert_exporter": "python",
   "pygments_lexer": "ipython3",
   "version": "3.7.1"
  }
 },
 "nbformat": 4,
 "nbformat_minor": 2
}
